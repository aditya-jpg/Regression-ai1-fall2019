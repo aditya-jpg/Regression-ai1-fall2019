{
  "nbformat": 4,
  "nbformat_minor": 0,
  "metadata": {
    "kernelspec": {
      "display_name": "Python 3",
      "name": "python3",
      "language": "python"
    },
    "language_info": {
      "mimetype": "text/x-python",
      "nbconvert_exporter": "python",
      "name": "python",
      "file_extension": ".py",
      "version": "3.6.8",
      "pygments_lexer": "ipython3",
      "codemirror_mode": {
        "version": 3,
        "name": "ipython"
      }
    },
    "anaconda-cloud": {},
    "nteract": {
      "version": "0.7.1"
    },
    "colab": {
      "name": "lab_linreg.ipynb",
      "provenance": []
    }
  },
  "cells": [
    {
      "cell_type": "markdown",
      "metadata": {
        "id": "FDSYmlWn7LYy",
        "colab_type": "text"
      },
      "source": [
        "# Linear Regression Multiple Ways"
      ]
    },
    {
      "cell_type": "markdown",
      "metadata": {
        "id": "XT3DzPBz7LY6",
        "colab_type": "text"
      },
      "source": [
        "## Making the data\n",
        "\n",
        "We'll first construct a synthetic data set..using a function from the `scikit-learn` library. Synthetic data is nice in the sense that we can constrain how the noise behaves, and thus isolate effects."
      ]
    },
    {
      "cell_type": "code",
      "metadata": {
        "id": "4_9HyEfB7LY-",
        "colab_type": "code",
        "colab": {}
      },
      "source": [
        "#sklearn one of the most imp lib \n",
        "%matplotlib inline\n",
        "from sklearn.datasets import make_regression\n",
        "import numpy as np\n",
        "import matplotlib.pyplot as plt"
      ],
      "execution_count": 0,
      "outputs": []
    },
    {
      "cell_type": "code",
      "metadata": {
        "id": "ugDLIQBl7LZH",
        "colab_type": "code",
        "colab": {}
      },
      "source": [
        "#code adapted from http://tillbergmann.com/blog/python-gradient-descent.html\n",
        "X, y, coef = make_regression(n_samples = 400, \n",
        "                       n_features=1, \n",
        "                       noise=40,\n",
        "                       random_state=2017,\n",
        "                       coef=True)"
      ],
      "execution_count": 0,
      "outputs": []
    },
    {
      "cell_type": "markdown",
      "metadata": {
        "id": "V7zlzqr87LZP",
        "colab_type": "text"
      },
      "source": [
        "Notice that the X is in the canonical array-of-arrays format.\n",
        "**Try and print its shape**"
      ]
    },
    {
      "cell_type": "code",
      "metadata": {
        "id": "4eavPTO57LZS",
        "colab_type": "code",
        "colab": {
          "base_uri": "https://localhost:8080/",
          "height": 34
        },
        "outputId": "4e3ae2db-b8aa-4186-a380-ee30d72baf8c"
      },
      "source": [
        "X.shape"
      ],
      "execution_count": 77,
      "outputs": [
        {
          "output_type": "execute_result",
          "data": {
            "text/plain": [
              "(400, 1)"
            ]
          },
          "metadata": {
            "tags": []
          },
          "execution_count": 77
        }
      ]
    },
    {
      "cell_type": "markdown",
      "metadata": {
        "id": "POUl-fUR7LZb",
        "colab_type": "text"
      },
      "source": [
        "We are fitting a model with an intercept. Lets see what it is."
      ]
    },
    {
      "cell_type": "code",
      "metadata": {
        "id": "_IF8nptv7LZd",
        "colab_type": "code",
        "colab": {
          "base_uri": "https://localhost:8080/",
          "height": 34
        },
        "outputId": "37ff9e6f-1023-4950-eb1e-284cd26fdc4a"
      },
      "source": [
        "coef"
      ],
      "execution_count": 78,
      "outputs": [
        {
          "output_type": "execute_result",
          "data": {
            "text/plain": [
              "array(85.96961586)"
            ]
          },
          "metadata": {
            "tags": []
          },
          "execution_count": 78
        }
      ]
    },
    {
      "cell_type": "markdown",
      "metadata": {
        "id": "zJ4NRm747LZl",
        "colab_type": "text"
      },
      "source": [
        "We can plot the data."
      ]
    },
    {
      "cell_type": "code",
      "metadata": {
        "id": "hTCTtirf7LZn",
        "colab_type": "code",
        "colab": {
          "base_uri": "https://localhost:8080/",
          "height": 269
        },
        "outputId": "3575c056-4185-4e52-9462-63ddf392700e"
      },
      "source": [
        "plt.plot(X,y, 'o');"
      ],
      "execution_count": 79,
      "outputs": [
        {
          "output_type": "display_data",
          "data": {
            "image/png": "[encoded data removed]",
            "text/plain": [
              "<Figure size 432x288 with 1 Axes>"
            ]
          },
          "metadata": {
            "tags": []
          }
        }
      ]
    },
    {
      "cell_type": "markdown",
      "metadata": {
        "id": "zurq5An37LZu",
        "colab_type": "text"
      },
      "source": [
        "For the purposes of drawing the regression line, lets create a uniform grid of points, and then reshape it into the canonical format"
      ]
    },
    {
      "cell_type": "code",
      "metadata": {
        "id": "q8R3FoQB7LZw",
        "colab_type": "code",
        "colab": {}
      },
      "source": [
        "\n",
        "xgrid = np.linspace(-2.5,2.5,1000)\n",
        "Xgrid = xgrid.reshape(-1,1)"
      ],
      "execution_count": 0,
      "outputs": []
    },
    {
      "cell_type": "code",
      "metadata": {
        "id": "qRDsmlcS-c0H",
        "colab_type": "code",
        "colab": {
          "base_uri": "https://localhost:8080/",
          "height": 34
        },
        "outputId": "17164f97-3907-4141-d99e-81f1687daf4c"
      },
      "source": [
        "Xgrid.shape, xgrid.shape\n"
      ],
      "execution_count": 61,
      "outputs": [
        {
          "output_type": "execute_result",
          "data": {
            "text/plain": [
              "((1000, 1), (1000,))"
            ]
          },
          "metadata": {
            "tags": []
          },
          "execution_count": 61
        }
      ]
    },
    {
      "cell_type": "code",
      "metadata": {
        "id": "X5sWOyNq-8NV",
        "colab_type": "code",
        "colab": {
          "base_uri": "https://localhost:8080/",
          "height": 1000
        },
        "outputId": "1ebbce0c-646d-4b5d-fff9-57e4b89454e0"
      },
      "source": [
        "xgrid,Xgrid"
      ],
      "execution_count": 81,
      "outputs": [
        {
          "output_type": "execute_result",
          "data": {
            "text/plain": [
              "(array([-2.5       , -2.49499499, -2.48998999, -2.48498498, -2.47997998,\n",
              "        -2.47497497, -2.46996997, -2.46496496, -2.45995996, -2.45495495,\n",
              "        -2.44994995, -2.44494494, -2.43993994, -2.43493493, -2.42992993,\n",
              "        -2.42492492, -2.41991992, -2.41491491, -2.40990991, -2.4049049 ,\n",
              "        -2.3998999 , -2.39489489, -2.38988989, -2.38488488, -2.37987988,\n",
              "        -2.37487487, -2.36986987, -2.36486486, -2.35985986, -2.35485485,\n",
              "        -2.34984985, -2.34484484, -2.33983984, -2.33483483, -2.32982983,\n",
              "        -2.32482482, -2.31981982, -2.31481481, -2.30980981, -2.3048048 ,\n",
              "        -2.2997998 , -2.29479479, -2.28978979, -2.28478478, -2.27977978,\n",
              "        -2.27477477, -2.26976977, -2.26476476, -2.25975976, -2.25475475,\n",
              "        -2.24974975, -2.24474474, -2.23973974, -2.23473473, -2.22972973,\n",
              "        -2.22472472, -2.21971972, -2.21471471, -2.20970971, -2.2047047 ,\n",
              "        -2.1996997 , -2.19469469, -2.18968969, -2.18468468, -2.17967968,\n",
              "        -2.17467467, -2.16966967, -2.16466466, -2.15965966, -2.15465465,\n",
              "        -2.14964965, -2.14464464, -2.13963964, -2.13463463, -2.12962963,\n",
              "        -2.12462462, -2.11961962, -2.11461461, -2.10960961, -2.1046046 ,\n",
              "        -2.0995996 , -2.09459459, -2.08958959, -2.08458458, -2.07957958,\n",
              "        -2.07457457, -2.06956957, -2.06456456, -2.05955956, -2.05455455,\n",
              "        -2.04954955, -2.04454454, -2.03953954, -2.03453453, -2.02952953,\n",
              "        -2.02452452, -2.01951952, -2.01451451, -2.00950951, -2.0045045 ,\n",
              "        -1.9994995 , -1.99449449, -1.98948949, -1.98448448, -1.97947948,\n",
              "        -1.97447447, -1.96946947, -1.96446446, -1.95945946, -1.95445445,\n",
              "        -1.94944945, -1.94444444, -1.93943944, -1.93443443, -1.92942943,\n",
              "        -1.92442442, -1.91941942, -1.91441441, -1.90940941, -1.9044044 ,\n",
              "        -1.8993994 , -1.89439439, -1.88938939, -1.88438438, -1.87937938,\n",
              "        -1.87437437, -1.86936937, -1.86436436, -1.85935936, -1.85435435,\n",
              "        -1.84934935, -1.84434434, -1.83933934, -1.83433433, -1.82932933,\n",
              "        -1.82432432, -1.81931932, -1.81431431, -1.80930931, -1.8043043 ,\n",
              "        -1.7992993 , -1.79429429, -1.78928929, -1.78428428, -1.77927928,\n",
              "        -1.77427427, -1.76926927, -1.76426426, -1.75925926, -1.75425425,\n",
              "        -1.74924925, -1.74424424, -1.73923924, -1.73423423, -1.72922923,\n",
              "        -1.72422422, -1.71921922, -1.71421421, -1.70920921, -1.7042042 ,\n",
              "        -1.6991992 , -1.69419419, -1.68918919, -1.68418418, -1.67917918,\n",
              "        -1.67417417, -1.66916917, -1.66416416, -1.65915916, -1.65415415,\n",
              "        -1.64914915, -1.64414414, -1.63913914, -1.63413413, -1.62912913,\n",
              "        -1.62412412, -1.61911912, -1.61411411, -1.60910911, -1.6041041 ,\n",
              "        -1.5990991 , -1.59409409, -1.58908909, -1.58408408, -1.57907908,\n",
              "        -1.57407407, -1.56906907, -1.56406406, -1.55905906, -1.55405405,\n",
              "        -1.54904905, -1.54404404, -1.53903904, -1.53403403, -1.52902903,\n",
              "        -1.52402402, -1.51901902, -1.51401401, -1.50900901, -1.504004  ,\n",
              "        -1.498999  , -1.49399399, -1.48898899, -1.48398398, -1.47897898,\n",
              "        -1.47397397, -1.46896897, -1.46396396, -1.45895896, -1.45395395,\n",
              "        -1.44894895, -1.44394394, -1.43893894, -1.43393393, -1.42892893,\n",
              "        -1.42392392, -1.41891892, -1.41391391, -1.40890891, -1.4039039 ,\n",
              "        -1.3988989 , -1.39389389, -1.38888889, -1.38388388, -1.37887888,\n",
              "        -1.37387387, -1.36886887, -1.36386386, -1.35885886, -1.35385385,\n",
              "        -1.34884885, -1.34384384, -1.33883884, -1.33383383, -1.32882883,\n",
              "        -1.32382382, -1.31881882, -1.31381381, -1.30880881, -1.3038038 ,\n",
              "        -1.2987988 , -1.29379379, -1.28878879, -1.28378378, -1.27877878,\n",
              "        -1.27377377, -1.26876877, -1.26376376, -1.25875876, -1.25375375,\n",
              "        -1.24874875, -1.24374374, -1.23873874, -1.23373373, -1.22872873,\n",
              "        -1.22372372, -1.21871872, -1.21371371, -1.20870871, -1.2037037 ,\n",
              "        -1.1986987 , -1.19369369, -1.18868869, -1.18368368, -1.17867868,\n",
              "        -1.17367367, -1.16866867, -1.16366366, -1.15865866, -1.15365365,\n",
              "        -1.14864865, -1.14364364, -1.13863864, -1.13363363, -1.12862863,\n",
              "        -1.12362362, -1.11861862, -1.11361361, -1.10860861, -1.1036036 ,\n",
              "        -1.0985986 , -1.09359359, -1.08858859, -1.08358358, -1.07857858,\n",
              "        -1.07357357, -1.06856857, -1.06356356, -1.05855856, -1.05355355,\n",
              "        -1.04854855, -1.04354354, -1.03853854, -1.03353353, -1.02852853,\n",
              "        -1.02352352, -1.01851852, -1.01351351, -1.00850851, -1.0035035 ,\n",
              "        -0.9984985 , -0.99349349, -0.98848849, -0.98348348, -0.97847848,\n",
              "        -0.97347347, -0.96846847, -0.96346346, -0.95845846, -0.95345345,\n",
              "        -0.94844845, -0.94344344, -0.93843844, -0.93343343, -0.92842843,\n",
              "        -0.92342342, -0.91841842, -0.91341341, -0.90840841, -0.9034034 ,\n",
              "        -0.8983984 , -0.89339339, -0.88838839, -0.88338338, -0.87837838,\n",
              "        -0.87337337, -0.86836837, -0.86336336, -0.85835836, -0.85335335,\n",
              "        -0.84834835, -0.84334334, -0.83833834, -0.83333333, -0.82832833,\n",
              "        -0.82332332, -0.81831832, -0.81331331, -0.80830831, -0.8033033 ,\n",
              "        -0.7982983 , -0.79329329, -0.78828829, -0.78328328, -0.77827828,\n",
              "        -0.77327327, -0.76826827, -0.76326326, -0.75825826, -0.75325325,\n",
              "        -0.74824825, -0.74324324, -0.73823824, -0.73323323, -0.72822823,\n",
              "        -0.72322322, -0.71821822, -0.71321321, -0.70820821, -0.7032032 ,\n",
              "        -0.6981982 , -0.69319319, -0.68818819, -0.68318318, -0.67817818,\n",
              "        -0.67317317, -0.66816817, -0.66316316, -0.65815816, -0.65315315,\n",
              "        -0.64814815, -0.64314314, -0.63813814, -0.63313313, -0.62812813,\n",
              "        -0.62312312, -0.61811812, -0.61311311, -0.60810811, -0.6031031 ,\n",
              "        -0.5980981 , -0.59309309, -0.58808809, -0.58308308, -0.57807808,\n",
              "        -0.57307307, -0.56806807, -0.56306306, -0.55805806, -0.55305305,\n",
              "        -0.54804805, -0.54304304, -0.53803804, -0.53303303, -0.52802803,\n",
              "        -0.52302302, -0.51801802, -0.51301301, -0.50800801, -0.503003  ,\n",
              "        -0.497998  , -0.49299299, -0.48798799, -0.48298298, -0.47797798,\n",
              "        -0.47297297, -0.46796797, -0.46296296, -0.45795796, -0.45295295,\n",
              "        -0.44794795, -0.44294294, -0.43793794, -0.43293293, -0.42792793,\n",
              "        -0.42292292, -0.41791792, -0.41291291, -0.40790791, -0.4029029 ,\n",
              "        -0.3978979 , -0.39289289, -0.38788789, -0.38288288, -0.37787788,\n",
              "        -0.37287287, -0.36786787, -0.36286286, -0.35785786, -0.35285285,\n",
              "        -0.34784785, -0.34284284, -0.33783784, -0.33283283, -0.32782783,\n",
              "        -0.32282282, -0.31781782, -0.31281281, -0.30780781, -0.3028028 ,\n",
              "        -0.2977978 , -0.29279279, -0.28778779, -0.28278278, -0.27777778,\n",
              "        -0.27277277, -0.26776777, -0.26276276, -0.25775776, -0.25275275,\n",
              "        -0.24774775, -0.24274274, -0.23773774, -0.23273273, -0.22772773,\n",
              "        -0.22272272, -0.21771772, -0.21271271, -0.20770771, -0.2027027 ,\n",
              "        -0.1976977 , -0.19269269, -0.18768769, -0.18268268, -0.17767768,\n",
              "        -0.17267267, -0.16766767, -0.16266266, -0.15765766, -0.15265265,\n",
              "        -0.14764765, -0.14264264, -0.13763764, -0.13263263, -0.12762763,\n",
              "        -0.12262262, -0.11761762, -0.11261261, -0.10760761, -0.1026026 ,\n",
              "        -0.0975976 , -0.09259259, -0.08758759, -0.08258258, -0.07757758,\n",
              "        -0.07257257, -0.06756757, -0.06256256, -0.05755756, -0.05255255,\n",
              "        -0.04754755, -0.04254254, -0.03753754, -0.03253253, -0.02752753,\n",
              "        -0.02252252, -0.01751752, -0.01251251, -0.00750751, -0.0025025 ,\n",
              "         0.0025025 ,  0.00750751,  0.01251251,  0.01751752,  0.02252252,\n",
              "         0.02752753,  0.03253253,  0.03753754,  0.04254254,  0.04754755,\n",
              "         0.05255255,  0.05755756,  0.06256256,  0.06756757,  0.07257257,\n",
              "         0.07757758,  0.08258258,  0.08758759,  0.09259259,  0.0975976 ,\n",
              "         0.1026026 ,  0.10760761,  0.11261261,  0.11761762,  0.12262262,\n",
              "         0.12762763,  0.13263263,  0.13763764,  0.14264264,  0.14764765,\n",
              "         0.15265265,  0.15765766,  0.16266266,  0.16766767,  0.17267267,\n",
              "         0.17767768,  0.18268268,  0.18768769,  0.19269269,  0.1976977 ,\n",
              "         0.2027027 ,  0.20770771,  0.21271271,  0.21771772,  0.22272272,\n",
              "         0.22772773,  0.23273273,  0.23773774,  0.24274274,  0.24774775,\n",
              "         0.25275275,  0.25775776,  0.26276276,  0.26776777,  0.27277277,\n",
              "         0.27777778,  0.28278278,  0.28778779,  0.29279279,  0.2977978 ,\n",
              "         0.3028028 ,  0.30780781,  0.31281281,  0.31781782,  0.32282282,\n",
              "         0.32782783,  0.33283283,  0.33783784,  0.34284284,  0.34784785,\n",
              "         0.35285285,  0.35785786,  0.36286286,  0.36786787,  0.37287287,\n",
              "         0.37787788,  0.38288288,  0.38788789,  0.39289289,  0.3978979 ,\n",
              "         0.4029029 ,  0.40790791,  0.41291291,  0.41791792,  0.42292292,\n",
              "         0.42792793,  0.43293293,  0.43793794,  0.44294294,  0.44794795,\n",
              "         0.45295295,  0.45795796,  0.46296296,  0.46796797,  0.47297297,\n",
              "         0.47797798,  0.48298298,  0.48798799,  0.49299299,  0.497998  ,\n",
              "         0.503003  ,  0.50800801,  0.51301301,  0.51801802,  0.52302302,\n",
              "         0.52802803,  0.53303303,  0.53803804,  0.54304304,  0.54804805,\n",
              "         0.55305305,  0.55805806,  0.56306306,  0.56806807,  0.57307307,\n",
              "         0.57807808,  0.58308308,  0.58808809,  0.59309309,  0.5980981 ,\n",
              "         0.6031031 ,  0.60810811,  0.61311311,  0.61811812,  0.62312312,\n",
              "         0.62812813,  0.63313313,  0.63813814,  0.64314314,  0.64814815,\n",
              "         0.65315315,  0.65815816,  0.66316316,  0.66816817,  0.67317317,\n",
              "         0.67817818,  0.68318318,  0.68818819,  0.69319319,  0.6981982 ,\n",
              "         0.7032032 ,  0.70820821,  0.71321321,  0.71821822,  0.72322322,\n",
              "         0.72822823,  0.73323323,  0.73823824,  0.74324324,  0.74824825,\n",
              "         0.75325325,  0.75825826,  0.76326326,  0.76826827,  0.77327327,\n",
              "         0.77827828,  0.78328328,  0.78828829,  0.79329329,  0.7982983 ,\n",
              "         0.8033033 ,  0.80830831,  0.81331331,  0.81831832,  0.82332332,\n",
              "         0.82832833,  0.83333333,  0.83833834,  0.84334334,  0.84834835,\n",
              "         0.85335335,  0.85835836,  0.86336336,  0.86836837,  0.87337337,\n",
              "         0.87837838,  0.88338338,  0.88838839,  0.89339339,  0.8983984 ,\n",
              "         0.9034034 ,  0.90840841,  0.91341341,  0.91841842,  0.92342342,\n",
              "         0.92842843,  0.93343343,  0.93843844,  0.94344344,  0.94844845,\n",
              "         0.95345345,  0.95845846,  0.96346346,  0.96846847,  0.97347347,\n",
              "         0.97847848,  0.98348348,  0.98848849,  0.99349349,  0.9984985 ,\n",
              "         1.0035035 ,  1.00850851,  1.01351351,  1.01851852,  1.02352352,\n",
              "         1.02852853,  1.03353353,  1.03853854,  1.04354354,  1.04854855,\n",
              "         1.05355355,  1.05855856,  1.06356356,  1.06856857,  1.07357357,\n",
              "         1.07857858,  1.08358358,  1.08858859,  1.09359359,  1.0985986 ,\n",
              "         1.1036036 ,  1.10860861,  1.11361361,  1.11861862,  1.12362362,\n",
              "         1.12862863,  1.13363363,  1.13863864,  1.14364364,  1.14864865,\n",
              "         1.15365365,  1.15865866,  1.16366366,  1.16866867,  1.17367367,\n",
              "         1.17867868,  1.18368368,  1.18868869,  1.19369369,  1.1986987 ,\n",
              "         1.2037037 ,  1.20870871,  1.21371371,  1.21871872,  1.22372372,\n",
              "         1.22872873,  1.23373373,  1.23873874,  1.24374374,  1.24874875,\n",
              "         1.25375375,  1.25875876,  1.26376376,  1.26876877,  1.27377377,\n",
              "         1.27877878,  1.28378378,  1.28878879,  1.29379379,  1.2987988 ,\n",
              "         1.3038038 ,  1.30880881,  1.31381381,  1.31881882,  1.32382382,\n",
              "         1.32882883,  1.33383383,  1.33883884,  1.34384384,  1.34884885,\n",
              "         1.35385385,  1.35885886,  1.36386386,  1.36886887,  1.37387387,\n",
              "         1.37887888,  1.38388388,  1.38888889,  1.39389389,  1.3988989 ,\n",
              "         1.4039039 ,  1.40890891,  1.41391391,  1.41891892,  1.42392392,\n",
              "         1.42892893,  1.43393393,  1.43893894,  1.44394394,  1.44894895,\n",
              "         1.45395395,  1.45895896,  1.46396396,  1.46896897,  1.47397397,\n",
              "         1.47897898,  1.48398398,  1.48898899,  1.49399399,  1.498999  ,\n",
              "         1.504004  ,  1.50900901,  1.51401401,  1.51901902,  1.52402402,\n",
              "         1.52902903,  1.53403403,  1.53903904,  1.54404404,  1.54904905,\n",
              "         1.55405405,  1.55905906,  1.56406406,  1.56906907,  1.57407407,\n",
              "         1.57907908,  1.58408408,  1.58908909,  1.59409409,  1.5990991 ,\n",
              "         1.6041041 ,  1.60910911,  1.61411411,  1.61911912,  1.62412412,\n",
              "         1.62912913,  1.63413413,  1.63913914,  1.64414414,  1.64914915,\n",
              "         1.65415415,  1.65915916,  1.66416416,  1.66916917,  1.67417417,\n",
              "         1.67917918,  1.68418418,  1.68918919,  1.69419419,  1.6991992 ,\n",
              "         1.7042042 ,  1.70920921,  1.71421421,  1.71921922,  1.72422422,\n",
              "         1.72922923,  1.73423423,  1.73923924,  1.74424424,  1.74924925,\n",
              "         1.75425425,  1.75925926,  1.76426426,  1.76926927,  1.77427427,\n",
              "         1.77927928,  1.78428428,  1.78928929,  1.79429429,  1.7992993 ,\n",
              "         1.8043043 ,  1.80930931,  1.81431431,  1.81931932,  1.82432432,\n",
              "         1.82932933,  1.83433433,  1.83933934,  1.84434434,  1.84934935,\n",
              "         1.85435435,  1.85935936,  1.86436436,  1.86936937,  1.87437437,\n",
              "         1.87937938,  1.88438438,  1.88938939,  1.89439439,  1.8993994 ,\n",
              "         1.9044044 ,  1.90940941,  1.91441441,  1.91941942,  1.92442442,\n",
              "         1.92942943,  1.93443443,  1.93943944,  1.94444444,  1.94944945,\n",
              "         1.95445445,  1.95945946,  1.96446446,  1.96946947,  1.97447447,\n",
              "         1.97947948,  1.98448448,  1.98948949,  1.99449449,  1.9994995 ,\n",
              "         2.0045045 ,  2.00950951,  2.01451451,  2.01951952,  2.02452452,\n",
              "         2.02952953,  2.03453453,  2.03953954,  2.04454454,  2.04954955,\n",
              "         2.05455455,  2.05955956,  2.06456456,  2.06956957,  2.07457457,\n",
              "         2.07957958,  2.08458458,  2.08958959,  2.09459459,  2.0995996 ,\n",
              "         2.1046046 ,  2.10960961,  2.11461461,  2.11961962,  2.12462462,\n",
              "         2.12962963,  2.13463463,  2.13963964,  2.14464464,  2.14964965,\n",
              "         2.15465465,  2.15965966,  2.16466466,  2.16966967,  2.17467467,\n",
              "         2.17967968,  2.18468468,  2.18968969,  2.19469469,  2.1996997 ,\n",
              "         2.2047047 ,  2.20970971,  2.21471471,  2.21971972,  2.22472472,\n",
              "         2.22972973,  2.23473473,  2.23973974,  2.24474474,  2.24974975,\n",
              "         2.25475475,  2.25975976,  2.26476476,  2.26976977,  2.27477477,\n",
              "         2.27977978,  2.28478478,  2.28978979,  2.29479479,  2.2997998 ,\n",
              "         2.3048048 ,  2.30980981,  2.31481481,  2.31981982,  2.32482482,\n",
              "         2.32982983,  2.33483483,  2.33983984,  2.34484484,  2.34984985,\n",
              "         2.35485485,  2.35985986,  2.36486486,  2.36986987,  2.37487487,\n",
              "         2.37987988,  2.38488488,  2.38988989,  2.39489489,  2.3998999 ,\n",
              "         2.4049049 ,  2.40990991,  2.41491491,  2.41991992,  2.42492492,\n",
              "         2.42992993,  2.43493493,  2.43993994,  2.44494494,  2.44994995,\n",
              "         2.45495495,  2.45995996,  2.46496496,  2.46996997,  2.47497497,\n",
              "         2.47997998,  2.48498498,  2.48998999,  2.49499499,  2.5       ]),\n",
              " array([[-2.5       ],\n",
              "        [-2.49499499],\n",
              "        [-2.48998999],\n",
              "        [-2.48498498],\n",
              "        [-2.47997998],\n",
              "        [-2.47497497],\n",
              "        [-2.46996997],\n",
              "        [-2.46496496],\n",
              "        [-2.45995996],\n",
              "        [-2.45495495],\n",
              "        [-2.44994995],\n",
              "        [-2.44494494],\n",
              "        [-2.43993994],\n",
              "        [-2.43493493],\n",
              "        [-2.42992993],\n",
              "        [-2.42492492],\n",
              "        [-2.41991992],\n",
              "        [-2.41491491],\n",
              "        [-2.40990991],\n",
              "        [-2.4049049 ],\n",
              "        [-2.3998999 ],\n",
              "        [-2.39489489],\n",
              "        [-2.38988989],\n",
              "        [-2.38488488],\n",
              "        [-2.37987988],\n",
              "        [-2.37487487],\n",
              "        [-2.36986987],\n",
              "        [-2.36486486],\n",
              "        [-2.35985986],\n",
              "        [-2.35485485],\n",
              "        [-2.34984985],\n",
              "        [-2.34484484],\n",
              "        [-2.33983984],\n",
              "        [-2.33483483],\n",
              "        [-2.32982983],\n",
              "        [-2.32482482],\n",
              "        [-2.31981982],\n",
              "        [-2.31481481],\n",
              "        [-2.30980981],\n",
              "        [-2.3048048 ],\n",
              "        [-2.2997998 ],\n",
              "        [-2.29479479],\n",
              "        [-2.28978979],\n",
              "        [-2.28478478],\n",
              "        [-2.27977978],\n",
              "        [-2.27477477],\n",
              "        [-2.26976977],\n",
              "        [-2.26476476],\n",
              "        [-2.25975976],\n",
              "        [-2.25475475],\n",
              "        [-2.24974975],\n",
              "        [-2.24474474],\n",
              "        [-2.23973974],\n",
              "        [-2.23473473],\n",
              "        [-2.22972973],\n",
              "        [-2.22472472],\n",
              "        [-2.21971972],\n",
              "        [-2.21471471],\n",
              "        [-2.20970971],\n",
              "        [-2.2047047 ],\n",
              "        [-2.1996997 ],\n",
              "        [-2.19469469],\n",
              "        [-2.18968969],\n",
              "        [-2.18468468],\n",
              "        [-2.17967968],\n",
              "        [-2.17467467],\n",
              "        [-2.16966967],\n",
              "        [-2.16466466],\n",
              "        [-2.15965966],\n",
              "        [-2.15465465],\n",
              "        [-2.14964965],\n",
              "        [-2.14464464],\n",
              "        [-2.13963964],\n",
              "        [-2.13463463],\n",
              "        [-2.12962963],\n",
              "        [-2.12462462],\n",
              "        [-2.11961962],\n",
              "        [-2.11461461],\n",
              "        [-2.10960961],\n",
              "        [-2.1046046 ],\n",
              "        [-2.0995996 ],\n",
              "        [-2.09459459],\n",
              "        [-2.08958959],\n",
              "        [-2.08458458],\n",
              "        [-2.07957958],\n",
              "        [-2.07457457],\n",
              "        [-2.06956957],\n",
              "        [-2.06456456],\n",
              "        [-2.05955956],\n",
              "        [-2.05455455],\n",
              "        [-2.04954955],\n",
              "        [-2.04454454],\n",
              "        [-2.03953954],\n",
              "        [-2.03453453],\n",
              "        [-2.02952953],\n",
              "        [-2.02452452],\n",
              "        [-2.01951952],\n",
              "        [-2.01451451],\n",
              "        [-2.00950951],\n",
              "        [-2.0045045 ],\n",
              "        [-1.9994995 ],\n",
              "        [-1.99449449],\n",
              "        [-1.98948949],\n",
              "        [-1.98448448],\n",
              "        [-1.97947948],\n",
              "        [-1.97447447],\n",
              "        [-1.96946947],\n",
              "        [-1.96446446],\n",
              "        [-1.95945946],\n",
              "        [-1.95445445],\n",
              "        [-1.94944945],\n",
              "        [-1.94444444],\n",
              "        [-1.93943944],\n",
              "        [-1.93443443],\n",
              "        [-1.92942943],\n",
              "        [-1.92442442],\n",
              "        [-1.91941942],\n",
              "        [-1.91441441],\n",
              "        [-1.90940941],\n",
              "        [-1.9044044 ],\n",
              "        [-1.8993994 ],\n",
              "        [-1.89439439],\n",
              "        [-1.88938939],\n",
              "        [-1.88438438],\n",
              "        [-1.87937938],\n",
              "        [-1.87437437],\n",
              "        [-1.86936937],\n",
              "        [-1.86436436],\n",
              "        [-1.85935936],\n",
              "        [-1.85435435],\n",
              "        [-1.84934935],\n",
              "        [-1.84434434],\n",
              "        [-1.83933934],\n",
              "        [-1.83433433],\n",
              "        [-1.82932933],\n",
              "        [-1.82432432],\n",
              "        [-1.81931932],\n",
              "        [-1.81431431],\n",
              "        [-1.80930931],\n",
              "        [-1.8043043 ],\n",
              "        [-1.7992993 ],\n",
              "        [-1.79429429],\n",
              "        [-1.78928929],\n",
              "        [-1.78428428],\n",
              "        [-1.77927928],\n",
              "        [-1.77427427],\n",
              "        [-1.76926927],\n",
              "        [-1.76426426],\n",
              "        [-1.75925926],\n",
              "        [-1.75425425],\n",
              "        [-1.74924925],\n",
              "        [-1.74424424],\n",
              "        [-1.73923924],\n",
              "        [-1.73423423],\n",
              "        [-1.72922923],\n",
              "        [-1.72422422],\n",
              "        [-1.71921922],\n",
              "        [-1.71421421],\n",
              "        [-1.70920921],\n",
              "        [-1.7042042 ],\n",
              "        [-1.6991992 ],\n",
              "        [-1.69419419],\n",
              "        [-1.68918919],\n",
              "        [-1.68418418],\n",
              "        [-1.67917918],\n",
              "        [-1.67417417],\n",
              "        [-1.66916917],\n",
              "        [-1.66416416],\n",
              "        [-1.65915916],\n",
              "        [-1.65415415],\n",
              "        [-1.64914915],\n",
              "        [-1.64414414],\n",
              "        [-1.63913914],\n",
              "        [-1.63413413],\n",
              "        [-1.62912913],\n",
              "        [-1.62412412],\n",
              "        [-1.61911912],\n",
              "        [-1.61411411],\n",
              "        [-1.60910911],\n",
              "        [-1.6041041 ],\n",
              "        [-1.5990991 ],\n",
              "        [-1.59409409],\n",
              "        [-1.58908909],\n",
              "        [-1.58408408],\n",
              "        [-1.57907908],\n",
              "        [-1.57407407],\n",
              "        [-1.56906907],\n",
              "        [-1.56406406],\n",
              "        [-1.55905906],\n",
              "        [-1.55405405],\n",
              "        [-1.54904905],\n",
              "        [-1.54404404],\n",
              "        [-1.53903904],\n",
              "        [-1.53403403],\n",
              "        [-1.52902903],\n",
              "        [-1.52402402],\n",
              "        [-1.51901902],\n",
              "        [-1.51401401],\n",
              "        [-1.50900901],\n",
              "        [-1.504004  ],\n",
              "        [-1.498999  ],\n",
              "        [-1.49399399],\n",
              "        [-1.48898899],\n",
              "        [-1.48398398],\n",
              "        [-1.47897898],\n",
              "        [-1.47397397],\n",
              "        [-1.46896897],\n",
              "        [-1.46396396],\n",
              "        [-1.45895896],\n",
              "        [-1.45395395],\n",
              "        [-1.44894895],\n",
              "        [-1.44394394],\n",
              "        [-1.43893894],\n",
              "        [-1.43393393],\n",
              "        [-1.42892893],\n",
              "        [-1.42392392],\n",
              "        [-1.41891892],\n",
              "        [-1.41391391],\n",
              "        [-1.40890891],\n",
              "        [-1.4039039 ],\n",
              "        [-1.3988989 ],\n",
              "        [-1.39389389],\n",
              "        [-1.38888889],\n",
              "        [-1.38388388],\n",
              "        [-1.37887888],\n",
              "        [-1.37387387],\n",
              "        [-1.36886887],\n",
              "        [-1.36386386],\n",
              "        [-1.35885886],\n",
              "        [-1.35385385],\n",
              "        [-1.34884885],\n",
              "        [-1.34384384],\n",
              "        [-1.33883884],\n",
              "        [-1.33383383],\n",
              "        [-1.32882883],\n",
              "        [-1.32382382],\n",
              "        [-1.31881882],\n",
              "        [-1.31381381],\n",
              "        [-1.30880881],\n",
              "        [-1.3038038 ],\n",
              "        [-1.2987988 ],\n",
              "        [-1.29379379],\n",
              "        [-1.28878879],\n",
              "        [-1.28378378],\n",
              "        [-1.27877878],\n",
              "        [-1.27377377],\n",
              "        [-1.26876877],\n",
              "        [-1.26376376],\n",
              "        [-1.25875876],\n",
              "        [-1.25375375],\n",
              "        [-1.24874875],\n",
              "        [-1.24374374],\n",
              "        [-1.23873874],\n",
              "        [-1.23373373],\n",
              "        [-1.22872873],\n",
              "        [-1.22372372],\n",
              "        [-1.21871872],\n",
              "        [-1.21371371],\n",
              "        [-1.20870871],\n",
              "        [-1.2037037 ],\n",
              "        [-1.1986987 ],\n",
              "        [-1.19369369],\n",
              "        [-1.18868869],\n",
              "        [-1.18368368],\n",
              "        [-1.17867868],\n",
              "        [-1.17367367],\n",
              "        [-1.16866867],\n",
              "        [-1.16366366],\n",
              "        [-1.15865866],\n",
              "        [-1.15365365],\n",
              "        [-1.14864865],\n",
              "        [-1.14364364],\n",
              "        [-1.13863864],\n",
              "        [-1.13363363],\n",
              "        [-1.12862863],\n",
              "        [-1.12362362],\n",
              "        [-1.11861862],\n",
              "        [-1.11361361],\n",
              "        [-1.10860861],\n",
              "        [-1.1036036 ],\n",
              "        [-1.0985986 ],\n",
              "        [-1.09359359],\n",
              "        [-1.08858859],\n",
              "        [-1.08358358],\n",
              "        [-1.07857858],\n",
              "        [-1.07357357],\n",
              "        [-1.06856857],\n",
              "        [-1.06356356],\n",
              "        [-1.05855856],\n",
              "        [-1.05355355],\n",
              "        [-1.04854855],\n",
              "        [-1.04354354],\n",
              "        [-1.03853854],\n",
              "        [-1.03353353],\n",
              "        [-1.02852853],\n",
              "        [-1.02352352],\n",
              "        [-1.01851852],\n",
              "        [-1.01351351],\n",
              "        [-1.00850851],\n",
              "        [-1.0035035 ],\n",
              "        [-0.9984985 ],\n",
              "        [-0.99349349],\n",
              "        [-0.98848849],\n",
              "        [-0.98348348],\n",
              "        [-0.97847848],\n",
              "        [-0.97347347],\n",
              "        [-0.96846847],\n",
              "        [-0.96346346],\n",
              "        [-0.95845846],\n",
              "        [-0.95345345],\n",
              "        [-0.94844845],\n",
              "        [-0.94344344],\n",
              "        [-0.93843844],\n",
              "        [-0.93343343],\n",
              "        [-0.92842843],\n",
              "        [-0.92342342],\n",
              "        [-0.91841842],\n",
              "        [-0.91341341],\n",
              "        [-0.90840841],\n",
              "        [-0.9034034 ],\n",
              "        [-0.8983984 ],\n",
              "        [-0.89339339],\n",
              "        [-0.88838839],\n",
              "        [-0.88338338],\n",
              "        [-0.87837838],\n",
              "        [-0.87337337],\n",
              "        [-0.86836837],\n",
              "        [-0.86336336],\n",
              "        [-0.85835836],\n",
              "        [-0.85335335],\n",
              "        [-0.84834835],\n",
              "        [-0.84334334],\n",
              "        [-0.83833834],\n",
              "        [-0.83333333],\n",
              "        [-0.82832833],\n",
              "        [-0.82332332],\n",
              "        [-0.81831832],\n",
              "        [-0.81331331],\n",
              "        [-0.80830831],\n",
              "        [-0.8033033 ],\n",
              "        [-0.7982983 ],\n",
              "        [-0.79329329],\n",
              "        [-0.78828829],\n",
              "        [-0.78328328],\n",
              "        [-0.77827828],\n",
              "        [-0.77327327],\n",
              "        [-0.76826827],\n",
              "        [-0.76326326],\n",
              "        [-0.75825826],\n",
              "        [-0.75325325],\n",
              "        [-0.74824825],\n",
              "        [-0.74324324],\n",
              "        [-0.73823824],\n",
              "        [-0.73323323],\n",
              "        [-0.72822823],\n",
              "        [-0.72322322],\n",
              "        [-0.71821822],\n",
              "        [-0.71321321],\n",
              "        [-0.70820821],\n",
              "        [-0.7032032 ],\n",
              "        [-0.6981982 ],\n",
              "        [-0.69319319],\n",
              "        [-0.68818819],\n",
              "        [-0.68318318],\n",
              "        [-0.67817818],\n",
              "        [-0.67317317],\n",
              "        [-0.66816817],\n",
              "        [-0.66316316],\n",
              "        [-0.65815816],\n",
              "        [-0.65315315],\n",
              "        [-0.64814815],\n",
              "        [-0.64314314],\n",
              "        [-0.63813814],\n",
              "        [-0.63313313],\n",
              "        [-0.62812813],\n",
              "        [-0.62312312],\n",
              "        [-0.61811812],\n",
              "        [-0.61311311],\n",
              "        [-0.60810811],\n",
              "        [-0.6031031 ],\n",
              "        [-0.5980981 ],\n",
              "        [-0.59309309],\n",
              "        [-0.58808809],\n",
              "        [-0.58308308],\n",
              "        [-0.57807808],\n",
              "        [-0.57307307],\n",
              "        [-0.56806807],\n",
              "        [-0.56306306],\n",
              "        [-0.55805806],\n",
              "        [-0.55305305],\n",
              "        [-0.54804805],\n",
              "        [-0.54304304],\n",
              "        [-0.53803804],\n",
              "        [-0.53303303],\n",
              "        [-0.52802803],\n",
              "        [-0.52302302],\n",
              "        [-0.51801802],\n",
              "        [-0.51301301],\n",
              "        [-0.50800801],\n",
              "        [-0.503003  ],\n",
              "        [-0.497998  ],\n",
              "        [-0.49299299],\n",
              "        [-0.48798799],\n",
              "        [-0.48298298],\n",
              "        [-0.47797798],\n",
              "        [-0.47297297],\n",
              "        [-0.46796797],\n",
              "        [-0.46296296],\n",
              "        [-0.45795796],\n",
              "        [-0.45295295],\n",
              "        [-0.44794795],\n",
              "        [-0.44294294],\n",
              "        [-0.43793794],\n",
              "        [-0.43293293],\n",
              "        [-0.42792793],\n",
              "        [-0.42292292],\n",
              "        [-0.41791792],\n",
              "        [-0.41291291],\n",
              "        [-0.40790791],\n",
              "        [-0.4029029 ],\n",
              "        [-0.3978979 ],\n",
              "        [-0.39289289],\n",
              "        [-0.38788789],\n",
              "        [-0.38288288],\n",
              "        [-0.37787788],\n",
              "        [-0.37287287],\n",
              "        [-0.36786787],\n",
              "        [-0.36286286],\n",
              "        [-0.35785786],\n",
              "        [-0.35285285],\n",
              "        [-0.34784785],\n",
              "        [-0.34284284],\n",
              "        [-0.33783784],\n",
              "        [-0.33283283],\n",
              "        [-0.32782783],\n",
              "        [-0.32282282],\n",
              "        [-0.31781782],\n",
              "        [-0.31281281],\n",
              "        [-0.30780781],\n",
              "        [-0.3028028 ],\n",
              "        [-0.2977978 ],\n",
              "        [-0.29279279],\n",
              "        [-0.28778779],\n",
              "        [-0.28278278],\n",
              "        [-0.27777778],\n",
              "        [-0.27277277],\n",
              "        [-0.26776777],\n",
              "        [-0.26276276],\n",
              "        [-0.25775776],\n",
              "        [-0.25275275],\n",
              "        [-0.24774775],\n",
              "        [-0.24274274],\n",
              "        [-0.23773774],\n",
              "        [-0.23273273],\n",
              "        [-0.22772773],\n",
              "        [-0.22272272],\n",
              "        [-0.21771772],\n",
              "        [-0.21271271],\n",
              "        [-0.20770771],\n",
              "        [-0.2027027 ],\n",
              "        [-0.1976977 ],\n",
              "        [-0.19269269],\n",
              "        [-0.18768769],\n",
              "        [-0.18268268],\n",
              "        [-0.17767768],\n",
              "        [-0.17267267],\n",
              "        [-0.16766767],\n",
              "        [-0.16266266],\n",
              "        [-0.15765766],\n",
              "        [-0.15265265],\n",
              "        [-0.14764765],\n",
              "        [-0.14264264],\n",
              "        [-0.13763764],\n",
              "        [-0.13263263],\n",
              "        [-0.12762763],\n",
              "        [-0.12262262],\n",
              "        [-0.11761762],\n",
              "        [-0.11261261],\n",
              "        [-0.10760761],\n",
              "        [-0.1026026 ],\n",
              "        [-0.0975976 ],\n",
              "        [-0.09259259],\n",
              "        [-0.08758759],\n",
              "        [-0.08258258],\n",
              "        [-0.07757758],\n",
              "        [-0.07257257],\n",
              "        [-0.06756757],\n",
              "        [-0.06256256],\n",
              "        [-0.05755756],\n",
              "        [-0.05255255],\n",
              "        [-0.04754755],\n",
              "        [-0.04254254],\n",
              "        [-0.03753754],\n",
              "        [-0.03253253],\n",
              "        [-0.02752753],\n",
              "        [-0.02252252],\n",
              "        [-0.01751752],\n",
              "        [-0.01251251],\n",
              "        [-0.00750751],\n",
              "        [-0.0025025 ],\n",
              "        [ 0.0025025 ],\n",
              "        [ 0.00750751],\n",
              "        [ 0.01251251],\n",
              "        [ 0.01751752],\n",
              "        [ 0.02252252],\n",
              "        [ 0.02752753],\n",
              "        [ 0.03253253],\n",
              "        [ 0.03753754],\n",
              "        [ 0.04254254],\n",
              "        [ 0.04754755],\n",
              "        [ 0.05255255],\n",
              "        [ 0.05755756],\n",
              "        [ 0.06256256],\n",
              "        [ 0.06756757],\n",
              "        [ 0.07257257],\n",
              "        [ 0.07757758],\n",
              "        [ 0.08258258],\n",
              "        [ 0.08758759],\n",
              "        [ 0.09259259],\n",
              "        [ 0.0975976 ],\n",
              "        [ 0.1026026 ],\n",
              "        [ 0.10760761],\n",
              "        [ 0.11261261],\n",
              "        [ 0.11761762],\n",
              "        [ 0.12262262],\n",
              "        [ 0.12762763],\n",
              "        [ 0.13263263],\n",
              "        [ 0.13763764],\n",
              "        [ 0.14264264],\n",
              "        [ 0.14764765],\n",
              "        [ 0.15265265],\n",
              "        [ 0.15765766],\n",
              "        [ 0.16266266],\n",
              "        [ 0.16766767],\n",
              "        [ 0.17267267],\n",
              "        [ 0.17767768],\n",
              "        [ 0.18268268],\n",
              "        [ 0.18768769],\n",
              "        [ 0.19269269],\n",
              "        [ 0.1976977 ],\n",
              "        [ 0.2027027 ],\n",
              "        [ 0.20770771],\n",
              "        [ 0.21271271],\n",
              "        [ 0.21771772],\n",
              "        [ 0.22272272],\n",
              "        [ 0.22772773],\n",
              "        [ 0.23273273],\n",
              "        [ 0.23773774],\n",
              "        [ 0.24274274],\n",
              "        [ 0.24774775],\n",
              "        [ 0.25275275],\n",
              "        [ 0.25775776],\n",
              "        [ 0.26276276],\n",
              "        [ 0.26776777],\n",
              "        [ 0.27277277],\n",
              "        [ 0.27777778],\n",
              "        [ 0.28278278],\n",
              "        [ 0.28778779],\n",
              "        [ 0.29279279],\n",
              "        [ 0.2977978 ],\n",
              "        [ 0.3028028 ],\n",
              "        [ 0.30780781],\n",
              "        [ 0.31281281],\n",
              "        [ 0.31781782],\n",
              "        [ 0.32282282],\n",
              "        [ 0.32782783],\n",
              "        [ 0.33283283],\n",
              "        [ 0.33783784],\n",
              "        [ 0.34284284],\n",
              "        [ 0.34784785],\n",
              "        [ 0.35285285],\n",
              "        [ 0.35785786],\n",
              "        [ 0.36286286],\n",
              "        [ 0.36786787],\n",
              "        [ 0.37287287],\n",
              "        [ 0.37787788],\n",
              "        [ 0.38288288],\n",
              "        [ 0.38788789],\n",
              "        [ 0.39289289],\n",
              "        [ 0.3978979 ],\n",
              "        [ 0.4029029 ],\n",
              "        [ 0.40790791],\n",
              "        [ 0.41291291],\n",
              "        [ 0.41791792],\n",
              "        [ 0.42292292],\n",
              "        [ 0.42792793],\n",
              "        [ 0.43293293],\n",
              "        [ 0.43793794],\n",
              "        [ 0.44294294],\n",
              "        [ 0.44794795],\n",
              "        [ 0.45295295],\n",
              "        [ 0.45795796],\n",
              "        [ 0.46296296],\n",
              "        [ 0.46796797],\n",
              "        [ 0.47297297],\n",
              "        [ 0.47797798],\n",
              "        [ 0.48298298],\n",
              "        [ 0.48798799],\n",
              "        [ 0.49299299],\n",
              "        [ 0.497998  ],\n",
              "        [ 0.503003  ],\n",
              "        [ 0.50800801],\n",
              "        [ 0.51301301],\n",
              "        [ 0.51801802],\n",
              "        [ 0.52302302],\n",
              "        [ 0.52802803],\n",
              "        [ 0.53303303],\n",
              "        [ 0.53803804],\n",
              "        [ 0.54304304],\n",
              "        [ 0.54804805],\n",
              "        [ 0.55305305],\n",
              "        [ 0.55805806],\n",
              "        [ 0.56306306],\n",
              "        [ 0.56806807],\n",
              "        [ 0.57307307],\n",
              "        [ 0.57807808],\n",
              "        [ 0.58308308],\n",
              "        [ 0.58808809],\n",
              "        [ 0.59309309],\n",
              "        [ 0.5980981 ],\n",
              "        [ 0.6031031 ],\n",
              "        [ 0.60810811],\n",
              "        [ 0.61311311],\n",
              "        [ 0.61811812],\n",
              "        [ 0.62312312],\n",
              "        [ 0.62812813],\n",
              "        [ 0.63313313],\n",
              "        [ 0.63813814],\n",
              "        [ 0.64314314],\n",
              "        [ 0.64814815],\n",
              "        [ 0.65315315],\n",
              "        [ 0.65815816],\n",
              "        [ 0.66316316],\n",
              "        [ 0.66816817],\n",
              "        [ 0.67317317],\n",
              "        [ 0.67817818],\n",
              "        [ 0.68318318],\n",
              "        [ 0.68818819],\n",
              "        [ 0.69319319],\n",
              "        [ 0.6981982 ],\n",
              "        [ 0.7032032 ],\n",
              "        [ 0.70820821],\n",
              "        [ 0.71321321],\n",
              "        [ 0.71821822],\n",
              "        [ 0.72322322],\n",
              "        [ 0.72822823],\n",
              "        [ 0.73323323],\n",
              "        [ 0.73823824],\n",
              "        [ 0.74324324],\n",
              "        [ 0.74824825],\n",
              "        [ 0.75325325],\n",
              "        [ 0.75825826],\n",
              "        [ 0.76326326],\n",
              "        [ 0.76826827],\n",
              "        [ 0.77327327],\n",
              "        [ 0.77827828],\n",
              "        [ 0.78328328],\n",
              "        [ 0.78828829],\n",
              "        [ 0.79329329],\n",
              "        [ 0.7982983 ],\n",
              "        [ 0.8033033 ],\n",
              "        [ 0.80830831],\n",
              "        [ 0.81331331],\n",
              "        [ 0.81831832],\n",
              "        [ 0.82332332],\n",
              "        [ 0.82832833],\n",
              "        [ 0.83333333],\n",
              "        [ 0.83833834],\n",
              "        [ 0.84334334],\n",
              "        [ 0.84834835],\n",
              "        [ 0.85335335],\n",
              "        [ 0.85835836],\n",
              "        [ 0.86336336],\n",
              "        [ 0.86836837],\n",
              "        [ 0.87337337],\n",
              "        [ 0.87837838],\n",
              "        [ 0.88338338],\n",
              "        [ 0.88838839],\n",
              "        [ 0.89339339],\n",
              "        [ 0.8983984 ],\n",
              "        [ 0.9034034 ],\n",
              "        [ 0.90840841],\n",
              "        [ 0.91341341],\n",
              "        [ 0.91841842],\n",
              "        [ 0.92342342],\n",
              "        [ 0.92842843],\n",
              "        [ 0.93343343],\n",
              "        [ 0.93843844],\n",
              "        [ 0.94344344],\n",
              "        [ 0.94844845],\n",
              "        [ 0.95345345],\n",
              "        [ 0.95845846],\n",
              "        [ 0.96346346],\n",
              "        [ 0.96846847],\n",
              "        [ 0.97347347],\n",
              "        [ 0.97847848],\n",
              "        [ 0.98348348],\n",
              "        [ 0.98848849],\n",
              "        [ 0.99349349],\n",
              "        [ 0.9984985 ],\n",
              "        [ 1.0035035 ],\n",
              "        [ 1.00850851],\n",
              "        [ 1.01351351],\n",
              "        [ 1.01851852],\n",
              "        [ 1.02352352],\n",
              "        [ 1.02852853],\n",
              "        [ 1.03353353],\n",
              "        [ 1.03853854],\n",
              "        [ 1.04354354],\n",
              "        [ 1.04854855],\n",
              "        [ 1.05355355],\n",
              "        [ 1.05855856],\n",
              "        [ 1.06356356],\n",
              "        [ 1.06856857],\n",
              "        [ 1.07357357],\n",
              "        [ 1.07857858],\n",
              "        [ 1.08358358],\n",
              "        [ 1.08858859],\n",
              "        [ 1.09359359],\n",
              "        [ 1.0985986 ],\n",
              "        [ 1.1036036 ],\n",
              "        [ 1.10860861],\n",
              "        [ 1.11361361],\n",
              "        [ 1.11861862],\n",
              "        [ 1.12362362],\n",
              "        [ 1.12862863],\n",
              "        [ 1.13363363],\n",
              "        [ 1.13863864],\n",
              "        [ 1.14364364],\n",
              "        [ 1.14864865],\n",
              "        [ 1.15365365],\n",
              "        [ 1.15865866],\n",
              "        [ 1.16366366],\n",
              "        [ 1.16866867],\n",
              "        [ 1.17367367],\n",
              "        [ 1.17867868],\n",
              "        [ 1.18368368],\n",
              "        [ 1.18868869],\n",
              "        [ 1.19369369],\n",
              "        [ 1.1986987 ],\n",
              "        [ 1.2037037 ],\n",
              "        [ 1.20870871],\n",
              "        [ 1.21371371],\n",
              "        [ 1.21871872],\n",
              "        [ 1.22372372],\n",
              "        [ 1.22872873],\n",
              "        [ 1.23373373],\n",
              "        [ 1.23873874],\n",
              "        [ 1.24374374],\n",
              "        [ 1.24874875],\n",
              "        [ 1.25375375],\n",
              "        [ 1.25875876],\n",
              "        [ 1.26376376],\n",
              "        [ 1.26876877],\n",
              "        [ 1.27377377],\n",
              "        [ 1.27877878],\n",
              "        [ 1.28378378],\n",
              "        [ 1.28878879],\n",
              "        [ 1.29379379],\n",
              "        [ 1.2987988 ],\n",
              "        [ 1.3038038 ],\n",
              "        [ 1.30880881],\n",
              "        [ 1.31381381],\n",
              "        [ 1.31881882],\n",
              "        [ 1.32382382],\n",
              "        [ 1.32882883],\n",
              "        [ 1.33383383],\n",
              "        [ 1.33883884],\n",
              "        [ 1.34384384],\n",
              "        [ 1.34884885],\n",
              "        [ 1.35385385],\n",
              "        [ 1.35885886],\n",
              "        [ 1.36386386],\n",
              "        [ 1.36886887],\n",
              "        [ 1.37387387],\n",
              "        [ 1.37887888],\n",
              "        [ 1.38388388],\n",
              "        [ 1.38888889],\n",
              "        [ 1.39389389],\n",
              "        [ 1.3988989 ],\n",
              "        [ 1.4039039 ],\n",
              "        [ 1.40890891],\n",
              "        [ 1.41391391],\n",
              "        [ 1.41891892],\n",
              "        [ 1.42392392],\n",
              "        [ 1.42892893],\n",
              "        [ 1.43393393],\n",
              "        [ 1.43893894],\n",
              "        [ 1.44394394],\n",
              "        [ 1.44894895],\n",
              "        [ 1.45395395],\n",
              "        [ 1.45895896],\n",
              "        [ 1.46396396],\n",
              "        [ 1.46896897],\n",
              "        [ 1.47397397],\n",
              "        [ 1.47897898],\n",
              "        [ 1.48398398],\n",
              "        [ 1.48898899],\n",
              "        [ 1.49399399],\n",
              "        [ 1.498999  ],\n",
              "        [ 1.504004  ],\n",
              "        [ 1.50900901],\n",
              "        [ 1.51401401],\n",
              "        [ 1.51901902],\n",
              "        [ 1.52402402],\n",
              "        [ 1.52902903],\n",
              "        [ 1.53403403],\n",
              "        [ 1.53903904],\n",
              "        [ 1.54404404],\n",
              "        [ 1.54904905],\n",
              "        [ 1.55405405],\n",
              "        [ 1.55905906],\n",
              "        [ 1.56406406],\n",
              "        [ 1.56906907],\n",
              "        [ 1.57407407],\n",
              "        [ 1.57907908],\n",
              "        [ 1.58408408],\n",
              "        [ 1.58908909],\n",
              "        [ 1.59409409],\n",
              "        [ 1.5990991 ],\n",
              "        [ 1.6041041 ],\n",
              "        [ 1.60910911],\n",
              "        [ 1.61411411],\n",
              "        [ 1.61911912],\n",
              "        [ 1.62412412],\n",
              "        [ 1.62912913],\n",
              "        [ 1.63413413],\n",
              "        [ 1.63913914],\n",
              "        [ 1.64414414],\n",
              "        [ 1.64914915],\n",
              "        [ 1.65415415],\n",
              "        [ 1.65915916],\n",
              "        [ 1.66416416],\n",
              "        [ 1.66916917],\n",
              "        [ 1.67417417],\n",
              "        [ 1.67917918],\n",
              "        [ 1.68418418],\n",
              "        [ 1.68918919],\n",
              "        [ 1.69419419],\n",
              "        [ 1.6991992 ],\n",
              "        [ 1.7042042 ],\n",
              "        [ 1.70920921],\n",
              "        [ 1.71421421],\n",
              "        [ 1.71921922],\n",
              "        [ 1.72422422],\n",
              "        [ 1.72922923],\n",
              "        [ 1.73423423],\n",
              "        [ 1.73923924],\n",
              "        [ 1.74424424],\n",
              "        [ 1.74924925],\n",
              "        [ 1.75425425],\n",
              "        [ 1.75925926],\n",
              "        [ 1.76426426],\n",
              "        [ 1.76926927],\n",
              "        [ 1.77427427],\n",
              "        [ 1.77927928],\n",
              "        [ 1.78428428],\n",
              "        [ 1.78928929],\n",
              "        [ 1.79429429],\n",
              "        [ 1.7992993 ],\n",
              "        [ 1.8043043 ],\n",
              "        [ 1.80930931],\n",
              "        [ 1.81431431],\n",
              "        [ 1.81931932],\n",
              "        [ 1.82432432],\n",
              "        [ 1.82932933],\n",
              "        [ 1.83433433],\n",
              "        [ 1.83933934],\n",
              "        [ 1.84434434],\n",
              "        [ 1.84934935],\n",
              "        [ 1.85435435],\n",
              "        [ 1.85935936],\n",
              "        [ 1.86436436],\n",
              "        [ 1.86936937],\n",
              "        [ 1.87437437],\n",
              "        [ 1.87937938],\n",
              "        [ 1.88438438],\n",
              "        [ 1.88938939],\n",
              "        [ 1.89439439],\n",
              "        [ 1.8993994 ],\n",
              "        [ 1.9044044 ],\n",
              "        [ 1.90940941],\n",
              "        [ 1.91441441],\n",
              "        [ 1.91941942],\n",
              "        [ 1.92442442],\n",
              "        [ 1.92942943],\n",
              "        [ 1.93443443],\n",
              "        [ 1.93943944],\n",
              "        [ 1.94444444],\n",
              "        [ 1.94944945],\n",
              "        [ 1.95445445],\n",
              "        [ 1.95945946],\n",
              "        [ 1.96446446],\n",
              "        [ 1.96946947],\n",
              "        [ 1.97447447],\n",
              "        [ 1.97947948],\n",
              "        [ 1.98448448],\n",
              "        [ 1.98948949],\n",
              "        [ 1.99449449],\n",
              "        [ 1.9994995 ],\n",
              "        [ 2.0045045 ],\n",
              "        [ 2.00950951],\n",
              "        [ 2.01451451],\n",
              "        [ 2.01951952],\n",
              "        [ 2.02452452],\n",
              "        [ 2.02952953],\n",
              "        [ 2.03453453],\n",
              "        [ 2.03953954],\n",
              "        [ 2.04454454],\n",
              "        [ 2.04954955],\n",
              "        [ 2.05455455],\n",
              "        [ 2.05955956],\n",
              "        [ 2.06456456],\n",
              "        [ 2.06956957],\n",
              "        [ 2.07457457],\n",
              "        [ 2.07957958],\n",
              "        [ 2.08458458],\n",
              "        [ 2.08958959],\n",
              "        [ 2.09459459],\n",
              "        [ 2.0995996 ],\n",
              "        [ 2.1046046 ],\n",
              "        [ 2.10960961],\n",
              "        [ 2.11461461],\n",
              "        [ 2.11961962],\n",
              "        [ 2.12462462],\n",
              "        [ 2.12962963],\n",
              "        [ 2.13463463],\n",
              "        [ 2.13963964],\n",
              "        [ 2.14464464],\n",
              "        [ 2.14964965],\n",
              "        [ 2.15465465],\n",
              "        [ 2.15965966],\n",
              "        [ 2.16466466],\n",
              "        [ 2.16966967],\n",
              "        [ 2.17467467],\n",
              "        [ 2.17967968],\n",
              "        [ 2.18468468],\n",
              "        [ 2.18968969],\n",
              "        [ 2.19469469],\n",
              "        [ 2.1996997 ],\n",
              "        [ 2.2047047 ],\n",
              "        [ 2.20970971],\n",
              "        [ 2.21471471],\n",
              "        [ 2.21971972],\n",
              "        [ 2.22472472],\n",
              "        [ 2.22972973],\n",
              "        [ 2.23473473],\n",
              "        [ 2.23973974],\n",
              "        [ 2.24474474],\n",
              "        [ 2.24974975],\n",
              "        [ 2.25475475],\n",
              "        [ 2.25975976],\n",
              "        [ 2.26476476],\n",
              "        [ 2.26976977],\n",
              "        [ 2.27477477],\n",
              "        [ 2.27977978],\n",
              "        [ 2.28478478],\n",
              "        [ 2.28978979],\n",
              "        [ 2.29479479],\n",
              "        [ 2.2997998 ],\n",
              "        [ 2.3048048 ],\n",
              "        [ 2.30980981],\n",
              "        [ 2.31481481],\n",
              "        [ 2.31981982],\n",
              "        [ 2.32482482],\n",
              "        [ 2.32982983],\n",
              "        [ 2.33483483],\n",
              "        [ 2.33983984],\n",
              "        [ 2.34484484],\n",
              "        [ 2.34984985],\n",
              "        [ 2.35485485],\n",
              "        [ 2.35985986],\n",
              "        [ 2.36486486],\n",
              "        [ 2.36986987],\n",
              "        [ 2.37487487],\n",
              "        [ 2.37987988],\n",
              "        [ 2.38488488],\n",
              "        [ 2.38988989],\n",
              "        [ 2.39489489],\n",
              "        [ 2.3998999 ],\n",
              "        [ 2.4049049 ],\n",
              "        [ 2.40990991],\n",
              "        [ 2.41491491],\n",
              "        [ 2.41991992],\n",
              "        [ 2.42492492],\n",
              "        [ 2.42992993],\n",
              "        [ 2.43493493],\n",
              "        [ 2.43993994],\n",
              "        [ 2.44494494],\n",
              "        [ 2.44994995],\n",
              "        [ 2.45495495],\n",
              "        [ 2.45995996],\n",
              "        [ 2.46496496],\n",
              "        [ 2.46996997],\n",
              "        [ 2.47497497],\n",
              "        [ 2.47997998],\n",
              "        [ 2.48498498],\n",
              "        [ 2.48998999],\n",
              "        [ 2.49499499],\n",
              "        [ 2.5       ]]))"
            ]
          },
          "metadata": {
            "tags": []
          },
          "execution_count": 81
        }
      ]
    },
    {
      "cell_type": "markdown",
      "metadata": {
        "id": "XibWMcXc7LZ3",
        "colab_type": "text"
      },
      "source": [
        "## Fit using sklearn"
      ]
    },
    {
      "cell_type": "code",
      "metadata": {
        "id": "mYor1lRR7LZ5",
        "colab_type": "code",
        "colab": {}
      },
      "source": [
        "from sklearn.linear_model import LinearRegression"
      ],
      "execution_count": 0,
      "outputs": []
    },
    {
      "cell_type": "code",
      "metadata": {
        "id": "gZ9Xu1Q27LaA",
        "colab_type": "code",
        "colab": {
          "base_uri": "https://localhost:8080/",
          "height": 34
        },
        "outputId": "78ce2c8a-5486-4c44-aeb4-2312a141c510"
      },
      "source": [
        "lr = LinearRegression()\n",
        "lr.fit(X,y)\n",
        "ypgrid = lr.predict(Xgrid)\n",
        "lr.coef_, lr.intercept_"
      ],
      "execution_count": 82,
      "outputs": [
        {
          "output_type": "execute_result",
          "data": {
            "text/plain": [
              "(array([82.95487799]), -1.0984376726093528)"
            ]
          },
          "metadata": {
            "tags": []
          },
          "execution_count": 82
        }
      ]
    },
    {
      "cell_type": "code",
      "metadata": {
        "id": "V1XuWNf17LaI",
        "colab_type": "code",
        "colab": {
          "base_uri": "https://localhost:8080/",
          "height": 286
        },
        "outputId": "5a44a3d6-52e8-4c03-f91b-eb5918856817"
      },
      "source": [
        "plt.plot(Xgrid, ypgrid)\n",
        "plt.plot(X, y, '.')"
      ],
      "execution_count": 83,
      "outputs": [
        {
          "output_type": "execute_result",
          "data": {
            "text/plain": [
              "[<matplotlib.lines.Line2D at 0x7fcc2f8eda20>]"
            ]
          },
          "metadata": {
            "tags": []
          },
          "execution_count": 83
        },
        {
          "output_type": "display_data",
          "data": {
            "image/png": "[encoded data removed]",
            "text/plain": [
              "<Figure size 432x288 with 1 Axes>"
            ]
          },
          "metadata": {
            "tags": []
          }
        }
      ]
    },
    {
      "cell_type": "code",
      "metadata": {
        "id": "s68Tu8qZ7LaO",
        "colab_type": "code",
        "colab": {}
      },
      "source": [
        "from sklearn.metrics import r2_score"
      ],
      "execution_count": 0,
      "outputs": []
    },
    {
      "cell_type": "code",
      "metadata": {
        "id": "aj935r2I7LaX",
        "colab_type": "code",
        "colab": {
          "base_uri": "https://localhost:8080/",
          "height": 34
        },
        "outputId": "19b8131c-fdc0-4484-ea80-2143bd607d80"
      },
      "source": [
        "r2_score(y, lr.predict(X))"
      ],
      "execution_count": 85,
      "outputs": [
        {
          "output_type": "execute_result",
          "data": {
            "text/plain": [
              "0.7737619392379189"
            ]
          },
          "metadata": {
            "tags": []
          },
          "execution_count": 85
        }
      ]
    },
    {
      "cell_type": "code",
      "metadata": {
        "id": "EVWG13vkBFXA",
        "colab_type": "code",
        "colab": {
          "base_uri": "https://localhost:8080/",
          "height": 34
        },
        "outputId": "f015d16f-b1ea-48ac-925e-96cc3073e663"
      },
      "source": [
        "lr.score(X,y)"
      ],
      "execution_count": 86,
      "outputs": [
        {
          "output_type": "execute_result",
          "data": {
            "text/plain": [
              "0.773761939237919"
            ]
          },
          "metadata": {
            "tags": []
          },
          "execution_count": 86
        }
      ]
    },
    {
      "cell_type": "markdown",
      "metadata": {
        "id": "ZzDtqJ_Z7Lae",
        "colab_type": "text"
      },
      "source": [
        "## The impact of sample size\n",
        "\n",
        "We'll sample 20 points from the data set. We do this by sampling 20 indices, index into X and y, and then fit on the sample"
      ]
    },
    {
      "cell_type": "code",
      "metadata": {
        "id": "mb43pa2T7Lag",
        "colab_type": "code",
        "colab": {
          "base_uri": "https://localhost:8080/",
          "height": 51
        },
        "outputId": "095d4ace-37f1-4385-eb57-412a32dc047c"
      },
      "source": [
        "sample_indices = np.random.choice(range(100), size=20)\n",
        "sample_indices"
      ],
      "execution_count": 87,
      "outputs": [
        {
          "output_type": "execute_result",
          "data": {
            "text/plain": [
              "array([63, 93, 99, 33, 75, 76, 33,  7, 95, 77, 26, 12,  0, 12, 80,  1, 39,\n",
              "       12, 40, 99])"
            ]
          },
          "metadata": {
            "tags": []
          },
          "execution_count": 87
        }
      ]
    },
    {
      "cell_type": "code",
      "metadata": {
        "id": "EkVsoBFe7Las",
        "colab_type": "code",
        "colab": {}
      },
      "source": [
        "Xsample = X[sample_indices]\n",
        "ysample = y[sample_indices]"
      ],
      "execution_count": 0,
      "outputs": []
    },
    {
      "cell_type": "code",
      "metadata": {
        "id": "MWAwaYVh7La0",
        "colab_type": "code",
        "colab": {
          "base_uri": "https://localhost:8080/",
          "height": 34
        },
        "outputId": "858798f2-d130-4004-976e-ca76d017bb78"
      },
      "source": [
        "lr_s = LinearRegression().fit(Xsample, ysample)\n",
        "r2_score(ysample, lr_s.predict(Xsample)), lr_s.score(Xsample, ysample)"
      ],
      "execution_count": 89,
      "outputs": [
        {
          "output_type": "execute_result",
          "data": {
            "text/plain": [
              "(0.5539459114302066, 0.5539459114302066)"
            ]
          },
          "metadata": {
            "tags": []
          },
          "execution_count": 89
        }
      ]
    },
    {
      "cell_type": "markdown",
      "metadata": {
        "id": "zslyDn297LbK",
        "colab_type": "text"
      },
      "source": [
        "Lets check the sensitivity of our prediction to our sample. We'll do this 1000 times"
      ]
    },
    {
      "cell_type": "code",
      "metadata": {
        "id": "xbCM0Gee7LbM",
        "colab_type": "code",
        "colab": {
          "base_uri": "https://localhost:8080/",
          "height": 286
        },
        "outputId": "83f06375-fd57-408e-8773-57fe056eace2"
      },
      "source": [
        "scores = []\n",
        "for i in range(1000):\n",
        "    sample_indices = np.random.choice(range(100), size=20)\n",
        "    Xsample = X[sample_indices]\n",
        "    ysample = y[sample_indices]\n",
        "    scores.append(LinearRegression().fit(Xsample, ysample).score(Xsample, ysample))\n",
        "plt.hist(scores,  bins=np.linspace(0.7, 1, 30))\n",
        "plt.xlim(0.7,1)"
      ],
      "execution_count": 90,
      "outputs": [
        {
          "output_type": "execute_result",
          "data": {
            "text/plain": [
              "(0.7, 1)"
            ]
          },
          "metadata": {
            "tags": []
          },
          "execution_count": 90
        },
        {
          "output_type": "display_data",
          "data": {
            "image/png": "[encoded data removed]",
            "text/plain": [
              "<Figure size 432x288 with 1 Axes>"
            ]
          },
          "metadata": {
            "tags": []
          }
        }
      ]
    },
    {
      "cell_type": "markdown",
      "metadata": {
        "id": "pBgELY9_7LbU",
        "colab_type": "text"
      },
      "source": [
        "Redo this with a higher amount of noise (about 400). For this you will need to create a new dataset. Plot the data. Plot the histogram of the R^2 as well as that of the coefficients.Try a smaller dataset as well. What conclusions can you draw?"
      ]
    },
    {
      "cell_type": "code",
      "metadata": {
        "id": "MbW2xy-F7Lba",
        "colab_type": "code",
        "colab": {}
      },
      "source": [
        "# your code here\n",
        "#code adapted from http://tillbergmann.com/blog/python-gradient-descent.html\n",
        "X, y, coef = make_regression(n_samples = 40, \n",
        "                       n_features=1, \n",
        "                       noise=100,\n",
        "                       random_state=2017,\n",
        "                       coef=True)\n"
      ],
      "execution_count": 0,
      "outputs": []
    },
    {
      "cell_type": "code",
      "metadata": {
        "id": "1OShBjac7Lbg",
        "colab_type": "code",
        "colab": {
          "base_uri": "https://localhost:8080/",
          "height": 269
        },
        "outputId": "a41d73f5-207c-4d91-dd5d-4fc842b1af35"
      },
      "source": [
        "# your code here\n",
        "plt.plot(X,y, 'o');"
      ],
      "execution_count": 94,
      "outputs": [
        {
          "output_type": "display_data",
          "data": {
            "image/png": "[encoded data removed]",
            "text/plain": [
              "<Figure size 432x288 with 1 Axes>"
            ]
          },
          "metadata": {
            "tags": []
          }
        }
      ]
    },
    {
      "cell_type": "code",
      "metadata": {
        "id": "v6Prx0jr7Lbo",
        "colab_type": "code",
        "colab": {}
      },
      "source": [
        "# your code here\n",
        "xgrid = np.linspace(-2.5,2.5,1000)\n",
        "Xgrid = xgrid.reshape(-1,1)"
      ],
      "execution_count": 0,
      "outputs": []
    },
    {
      "cell_type": "code",
      "metadata": {
        "id": "ayGPIkqT7Lb5",
        "colab_type": "code",
        "colab": {}
      },
      "source": [
        "# your code here\n",
        "from sklearn.linear_model import LinearRegression\n"
      ],
      "execution_count": 0,
      "outputs": []
    },
    {
      "cell_type": "code",
      "metadata": {
        "id": "jY4VdFH07LcD",
        "colab_type": "code",
        "colab": {}
      },
      "source": [
        "# your code here\n"
      ],
      "execution_count": 0,
      "outputs": []
    },
    {
      "cell_type": "markdown",
      "metadata": {
        "id": "iezHVS5N7LcJ",
        "colab_type": "text"
      },
      "source": [
        "## Testing and training\n",
        "\n",
        "A grid like the one we created might contain some of the points we fit this model on. This is called **Data Contamination** and is a big no-no. If we want an independent estimate of the error, we should hold out some points in a test set."
      ]
    },
    {
      "cell_type": "code",
      "metadata": {
        "id": "CudtGT087LcL",
        "colab_type": "code",
        "colab": {}
      },
      "source": [
        "from sklearn.model_selection import train_test_split"
      ],
      "execution_count": 0,
      "outputs": []
    },
    {
      "cell_type": "code",
      "metadata": {
        "id": "F2Ybins67LcQ",
        "colab_type": "code",
        "colab": {}
      },
      "source": [
        "Xtrain, Xtest, ytrain, ytest = train_test_split(X, y, test_size=0.2, random_state=2017)"
      ],
      "execution_count": 0,
      "outputs": []
    },
    {
      "cell_type": "markdown",
      "metadata": {
        "id": "ts7e9_YM7Lct",
        "colab_type": "text"
      },
      "source": [
        "Now lets fit the model on the training set and evaluate it both on the training set and the test set. We print the R^2"
      ]
    },
    {
      "cell_type": "code",
      "metadata": {
        "id": "AO5XoBWx7Lcv",
        "colab_type": "code",
        "colab": {}
      },
      "source": [
        "lr2 = LinearRegression().fit(Xtrain, ytrain)\n",
        "r2_test = r2_score(ytest, lr.predict(Xtest))\n",
        "r2_train = r2_score(ytrain, lr.predict(Xtrain))"
      ],
      "execution_count": 0,
      "outputs": []
    },
    {
      "cell_type": "code",
      "metadata": {
        "id": "rIIJ3k1u7Lc1",
        "colab_type": "code",
        "colab": {}
      },
      "source": [
        "\"Train R2 is {}, while test R^2 is {}\".format(r2_train, r2_test)"
      ],
      "execution_count": 0,
      "outputs": []
    },
    {
      "cell_type": "markdown",
      "metadata": {
        "id": "clv4tQDI7Lc7",
        "colab_type": "text"
      },
      "source": [
        "## Using Keras to fit the model\n",
        "\n",
        "We'll use plain and simple gradient descent (why?) and Keras's Sequential API"
      ]
    },
    {
      "cell_type": "code",
      "metadata": {
        "id": "CPZZeegn7Lc9",
        "colab_type": "code",
        "colab": {}
      },
      "source": [
        "from keras.models import Sequential\n",
        "from keras.layers import Dense\n",
        "lr3 = Sequential()\n",
        "lr3.add(Dense(1, input_shape=(1,)))\n",
        "lr3.compile(optimizer='sgd', loss='mean_squared_error',  metrics=['mae','accuracy'])\n",
        "lr3.summary()"
      ],
      "execution_count": 0,
      "outputs": []
    },
    {
      "cell_type": "code",
      "metadata": {
        "id": "WZlmJVjX7LdC",
        "colab_type": "code",
        "colab": {}
      },
      "source": [
        "history = lr3.fit(Xtrain, ytrain, epochs=400, batch_size=80)"
      ],
      "execution_count": 0,
      "outputs": []
    },
    {
      "cell_type": "code",
      "metadata": {
        "id": "Vizge0tx7LdS",
        "colab_type": "code",
        "colab": {}
      },
      "source": [
        "plt.plot(history.history['loss'])"
      ],
      "execution_count": 0,
      "outputs": []
    },
    {
      "cell_type": "code",
      "metadata": {
        "id": "ZQVfqrbL7LdY",
        "colab_type": "code",
        "colab": {}
      },
      "source": [
        "lr3.get_weights()"
      ],
      "execution_count": 0,
      "outputs": []
    },
    {
      "cell_type": "markdown",
      "metadata": {
        "id": "12Z9LtX67Ldh",
        "colab_type": "text"
      },
      "source": [
        "### Using the Keras Functional API\n",
        "\n"
      ]
    },
    {
      "cell_type": "code",
      "metadata": {
        "id": "Q90_WYdO7Ldj",
        "colab_type": "code",
        "colab": {}
      },
      "source": [
        "from keras.layers import Input, Dense\n",
        "from keras.models import Model\n",
        "\n",
        "inputs_placeholder = Input(shape=(1,))\n",
        "outputs_placeholder = Dense(1, activation='linear')(inputs_placeholder)\n",
        "\n",
        "m = Model(inputs=inputs_placeholder, outputs=outputs_placeholder)\n",
        "m.compile(optimizer='sgd', loss='mean_squared_error',  metrics=['mae','accuracy'])\n",
        "m.summary()"
      ],
      "execution_count": 0,
      "outputs": []
    },
    {
      "cell_type": "code",
      "metadata": {
        "id": "qpLltXmw7Ldp",
        "colab_type": "code",
        "colab": {}
      },
      "source": [
        "history2 = m.fit(Xtrain, ytrain, epochs=250, batch_size=80)"
      ],
      "execution_count": 0,
      "outputs": []
    },
    {
      "cell_type": "code",
      "metadata": {
        "id": "zS5IkNcJ7Ld0",
        "colab_type": "code",
        "colab": {}
      },
      "source": [
        "m.get_weights()"
      ],
      "execution_count": 0,
      "outputs": []
    }
  ]
}